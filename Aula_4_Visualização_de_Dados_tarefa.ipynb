{
  "nbformat": 4,
  "nbformat_minor": 0,
  "metadata": {
    "colab": {
      "name": "Aula 4 - Visualização de Dados",
      "provenance": []
    },
    "kernelspec": {
      "name": "python3",
      "display_name": "Python 3"
    },
    "language_info": {
      "name": "python"
    }
  },
  "cells": [
    {
      "cell_type": "markdown",
      "source": [
        "# Visualização de Dados"
      ],
      "metadata": {
        "id": "OGGCozS024jk"
      }
    },
    {
      "cell_type": "code",
      "execution_count": 1,
      "metadata": {
        "id": "Aqd5yrFzzpae"
      },
      "outputs": [],
      "source": [
        "#Import libraries\n",
        "\n",
        "import pandas as pd\n",
        "import matplotlib.pyplot as plt\n",
        "%matplotlib inline\n",
        "import seaborn as sns\n",
        "import re"
      ]
    },
    {
      "cell_type": "code",
      "source": [
        "#Import data\n",
        "data = pd.read_csv('State of Data 2021 - Dataset - Pgina1 (1).csv')"
      ],
      "metadata": {
        "id": "p8VO_7XI3rQ4"
      },
      "execution_count": 2,
      "outputs": []
    },
    {
      "cell_type": "code",
      "source": [
        "data.head()"
      ],
      "metadata": {
        "id": "EokabAe_31-2",
        "colab": {
          "base_uri": "https://localhost:8080/",
          "height": 716
        },
        "outputId": "87b6e411-5b3e-4c10-ff0c-a6de0c85adfe"
      },
      "execution_count": 3,
      "outputs": [
        {
          "output_type": "execute_result",
          "data": {
            "text/plain": [
              "   Unnamed: 0  Idade     Genero  UF Regiao_origem   Nivel Ensino  \\\n",
              "0           0   38.0  Masculino  CE           NaN  Pós-graduação   \n",
              "1           1   39.0  Masculino  BA       Sudeste  Pós-graduação   \n",
              "2           2   30.0  Masculino  SC           NaN  Pós-graduação   \n",
              "3           3   38.0   Feminino  SP           NaN  Pós-graduação   \n",
              "4           4   36.0  Masculino  SC           NaN  Pós-graduação   \n",
              "\n",
              "                                       Area Formacao  \\\n",
              "0                                   Química / Física   \n",
              "1  Economia/ Administração / Contabilidade / Fina...   \n",
              "2  Computação / Engenharia de Software / Sistemas...   \n",
              "3                                             Outras   \n",
              "4                                 Outras Engenharias   \n",
              "\n",
              "                  Situacao Trabalho        Setor  Trabalha como Gestao  ...  \\\n",
              "0                   Empregado (CLT)    Marketing                   1.0  ...   \n",
              "1  Empreendedor ou Empregado (CNPJ)  Consultoria                   1.0  ...   \n",
              "2                   Empregado (CLT)    Indústria                   1.0  ...   \n",
              "3  Empreendedor ou Empregado (CNPJ)     Serviços                   1.0  ...   \n",
              "4  Empreendedor ou Empregado (CNPJ)       Varejo                   1.0  ...   \n",
              "\n",
              "  Cargo Atual   Nivel                    Faixa Salarial  \\\n",
              "0         NaN  Gestor    de R$ 4.001/mês a R$ 6.000/mês   \n",
              "1         NaN  Gestor    de R$ 6.001/mês a R$ 8.000/mês   \n",
              "2         NaN  Gestor   de R$ 8.001/mês a R$ 12.000/mês   \n",
              "3         NaN  Gestor  de R$ 12.001/mês a R$ 16.000/mês   \n",
              "4         NaN  Gestor   de R$ 8.001/mês a R$ 12.000/mês   \n",
              "\n",
              "                          Insatisfacao com a Empresa Tempo XP em Dados  \\\n",
              "0                                                NaN   Mais de 10 anos   \n",
              "1                                                NaN     de 2 a 3 anos   \n",
              "2             O clima de trabalho/ambiente não é bom     de 1 a 2 anos   \n",
              "3           Falta de maturidade analítica na empresa   Mais de 10 anos   \n",
              "4  Gostaria de trabalhar em em outra área de atua...     de 1 a 2 anos   \n",
              "\n",
              "                                Tempo XP em Software  \\\n",
              "0  Não tive experiência na área de TI/Engenharia ...   \n",
              "1  Não tive experiência na área de TI/Engenharia ...   \n",
              "2                                      de 2 a 3 anos   \n",
              "3                                     Menos de 1 ano   \n",
              "4                                      de 4 a 5 anos   \n",
              "\n",
              "                       Criterios de escolha trabalho  \\\n",
              "0                                         Benefícios   \n",
              "1                   Flexibilidade de trabalho remoto   \n",
              "2  Oportunidade de aprendizado e trabalhar com re...   \n",
              "3  Propósito do trabalho e da empresa, Flexibilid...   \n",
              "4  Maturidade da empresa em termos de tecnologia ...   \n",
              "\n",
              "                             Forma de trabalho atual  \\\n",
              "0                             Modelo 100% presencial   \n",
              "1  Modelo híbrido flexível (o funcionário tem lib...   \n",
              "2                             Modelo 100% presencial   \n",
              "3                             Modelo 100% presencial   \n",
              "4                             Modelo 100% presencial   \n",
              "\n",
              "                          Forma de trabalho desejada Faixa Salarial_number  \n",
              "0  Modelo híbrido com dias fixos de trabalho pres...                6000.0  \n",
              "1                                 Modelo 100% remoto                8000.0  \n",
              "2                                 Modelo 100% remoto               12000.0  \n",
              "3  Modelo híbrido com dias fixos de trabalho pres...               16000.0  \n",
              "4                                 Modelo 100% remoto               12000.0  \n",
              "\n",
              "[5 rows x 21 columns]"
            ],
            "text/html": [
              "\n",
              "  <div id=\"df-228a079d-ce6d-4a2c-9f75-1294b9efd5a9\">\n",
              "    <div class=\"colab-df-container\">\n",
              "      <div>\n",
              "<style scoped>\n",
              "    .dataframe tbody tr th:only-of-type {\n",
              "        vertical-align: middle;\n",
              "    }\n",
              "\n",
              "    .dataframe tbody tr th {\n",
              "        vertical-align: top;\n",
              "    }\n",
              "\n",
              "    .dataframe thead th {\n",
              "        text-align: right;\n",
              "    }\n",
              "</style>\n",
              "<table border=\"1\" class=\"dataframe\">\n",
              "  <thead>\n",
              "    <tr style=\"text-align: right;\">\n",
              "      <th></th>\n",
              "      <th>Unnamed: 0</th>\n",
              "      <th>Idade</th>\n",
              "      <th>Genero</th>\n",
              "      <th>UF</th>\n",
              "      <th>Regiao_origem</th>\n",
              "      <th>Nivel Ensino</th>\n",
              "      <th>Area Formacao</th>\n",
              "      <th>Situacao Trabalho</th>\n",
              "      <th>Setor</th>\n",
              "      <th>Trabalha como Gestao</th>\n",
              "      <th>...</th>\n",
              "      <th>Cargo Atual</th>\n",
              "      <th>Nivel</th>\n",
              "      <th>Faixa Salarial</th>\n",
              "      <th>Insatisfacao com a Empresa</th>\n",
              "      <th>Tempo XP em Dados</th>\n",
              "      <th>Tempo XP em Software</th>\n",
              "      <th>Criterios de escolha trabalho</th>\n",
              "      <th>Forma de trabalho atual</th>\n",
              "      <th>Forma de trabalho desejada</th>\n",
              "      <th>Faixa Salarial_number</th>\n",
              "    </tr>\n",
              "  </thead>\n",
              "  <tbody>\n",
              "    <tr>\n",
              "      <th>0</th>\n",
              "      <td>0</td>\n",
              "      <td>38.0</td>\n",
              "      <td>Masculino</td>\n",
              "      <td>CE</td>\n",
              "      <td>NaN</td>\n",
              "      <td>Pós-graduação</td>\n",
              "      <td>Química / Física</td>\n",
              "      <td>Empregado (CLT)</td>\n",
              "      <td>Marketing</td>\n",
              "      <td>1.0</td>\n",
              "      <td>...</td>\n",
              "      <td>NaN</td>\n",
              "      <td>Gestor</td>\n",
              "      <td>de R$ 4.001/mês a R$ 6.000/mês</td>\n",
              "      <td>NaN</td>\n",
              "      <td>Mais de 10 anos</td>\n",
              "      <td>Não tive experiência na área de TI/Engenharia ...</td>\n",
              "      <td>Benefícios</td>\n",
              "      <td>Modelo 100% presencial</td>\n",
              "      <td>Modelo híbrido com dias fixos de trabalho pres...</td>\n",
              "      <td>6000.0</td>\n",
              "    </tr>\n",
              "    <tr>\n",
              "      <th>1</th>\n",
              "      <td>1</td>\n",
              "      <td>39.0</td>\n",
              "      <td>Masculino</td>\n",
              "      <td>BA</td>\n",
              "      <td>Sudeste</td>\n",
              "      <td>Pós-graduação</td>\n",
              "      <td>Economia/ Administração / Contabilidade / Fina...</td>\n",
              "      <td>Empreendedor ou Empregado (CNPJ)</td>\n",
              "      <td>Consultoria</td>\n",
              "      <td>1.0</td>\n",
              "      <td>...</td>\n",
              "      <td>NaN</td>\n",
              "      <td>Gestor</td>\n",
              "      <td>de R$ 6.001/mês a R$ 8.000/mês</td>\n",
              "      <td>NaN</td>\n",
              "      <td>de 2 a 3 anos</td>\n",
              "      <td>Não tive experiência na área de TI/Engenharia ...</td>\n",
              "      <td>Flexibilidade de trabalho remoto</td>\n",
              "      <td>Modelo híbrido flexível (o funcionário tem lib...</td>\n",
              "      <td>Modelo 100% remoto</td>\n",
              "      <td>8000.0</td>\n",
              "    </tr>\n",
              "    <tr>\n",
              "      <th>2</th>\n",
              "      <td>2</td>\n",
              "      <td>30.0</td>\n",
              "      <td>Masculino</td>\n",
              "      <td>SC</td>\n",
              "      <td>NaN</td>\n",
              "      <td>Pós-graduação</td>\n",
              "      <td>Computação / Engenharia de Software / Sistemas...</td>\n",
              "      <td>Empregado (CLT)</td>\n",
              "      <td>Indústria</td>\n",
              "      <td>1.0</td>\n",
              "      <td>...</td>\n",
              "      <td>NaN</td>\n",
              "      <td>Gestor</td>\n",
              "      <td>de R$ 8.001/mês a R$ 12.000/mês</td>\n",
              "      <td>O clima de trabalho/ambiente não é bom</td>\n",
              "      <td>de 1 a 2 anos</td>\n",
              "      <td>de 2 a 3 anos</td>\n",
              "      <td>Oportunidade de aprendizado e trabalhar com re...</td>\n",
              "      <td>Modelo 100% presencial</td>\n",
              "      <td>Modelo 100% remoto</td>\n",
              "      <td>12000.0</td>\n",
              "    </tr>\n",
              "    <tr>\n",
              "      <th>3</th>\n",
              "      <td>3</td>\n",
              "      <td>38.0</td>\n",
              "      <td>Feminino</td>\n",
              "      <td>SP</td>\n",
              "      <td>NaN</td>\n",
              "      <td>Pós-graduação</td>\n",
              "      <td>Outras</td>\n",
              "      <td>Empreendedor ou Empregado (CNPJ)</td>\n",
              "      <td>Serviços</td>\n",
              "      <td>1.0</td>\n",
              "      <td>...</td>\n",
              "      <td>NaN</td>\n",
              "      <td>Gestor</td>\n",
              "      <td>de R$ 12.001/mês a R$ 16.000/mês</td>\n",
              "      <td>Falta de maturidade analítica na empresa</td>\n",
              "      <td>Mais de 10 anos</td>\n",
              "      <td>Menos de 1 ano</td>\n",
              "      <td>Propósito do trabalho e da empresa, Flexibilid...</td>\n",
              "      <td>Modelo 100% presencial</td>\n",
              "      <td>Modelo híbrido com dias fixos de trabalho pres...</td>\n",
              "      <td>16000.0</td>\n",
              "    </tr>\n",
              "    <tr>\n",
              "      <th>4</th>\n",
              "      <td>4</td>\n",
              "      <td>36.0</td>\n",
              "      <td>Masculino</td>\n",
              "      <td>SC</td>\n",
              "      <td>NaN</td>\n",
              "      <td>Pós-graduação</td>\n",
              "      <td>Outras Engenharias</td>\n",
              "      <td>Empreendedor ou Empregado (CNPJ)</td>\n",
              "      <td>Varejo</td>\n",
              "      <td>1.0</td>\n",
              "      <td>...</td>\n",
              "      <td>NaN</td>\n",
              "      <td>Gestor</td>\n",
              "      <td>de R$ 8.001/mês a R$ 12.000/mês</td>\n",
              "      <td>Gostaria de trabalhar em em outra área de atua...</td>\n",
              "      <td>de 1 a 2 anos</td>\n",
              "      <td>de 4 a 5 anos</td>\n",
              "      <td>Maturidade da empresa em termos de tecnologia ...</td>\n",
              "      <td>Modelo 100% presencial</td>\n",
              "      <td>Modelo 100% remoto</td>\n",
              "      <td>12000.0</td>\n",
              "    </tr>\n",
              "  </tbody>\n",
              "</table>\n",
              "<p>5 rows × 21 columns</p>\n",
              "</div>\n",
              "      <button class=\"colab-df-convert\" onclick=\"convertToInteractive('df-228a079d-ce6d-4a2c-9f75-1294b9efd5a9')\"\n",
              "              title=\"Convert this dataframe to an interactive table.\"\n",
              "              style=\"display:none;\">\n",
              "        \n",
              "  <svg xmlns=\"http://www.w3.org/2000/svg\" height=\"24px\"viewBox=\"0 0 24 24\"\n",
              "       width=\"24px\">\n",
              "    <path d=\"M0 0h24v24H0V0z\" fill=\"none\"/>\n",
              "    <path d=\"M18.56 5.44l.94 2.06.94-2.06 2.06-.94-2.06-.94-.94-2.06-.94 2.06-2.06.94zm-11 1L8.5 8.5l.94-2.06 2.06-.94-2.06-.94L8.5 2.5l-.94 2.06-2.06.94zm10 10l.94 2.06.94-2.06 2.06-.94-2.06-.94-.94-2.06-.94 2.06-2.06.94z\"/><path d=\"M17.41 7.96l-1.37-1.37c-.4-.4-.92-.59-1.43-.59-.52 0-1.04.2-1.43.59L10.3 9.45l-7.72 7.72c-.78.78-.78 2.05 0 2.83L4 21.41c.39.39.9.59 1.41.59.51 0 1.02-.2 1.41-.59l7.78-7.78 2.81-2.81c.8-.78.8-2.07 0-2.86zM5.41 20L4 18.59l7.72-7.72 1.47 1.35L5.41 20z\"/>\n",
              "  </svg>\n",
              "      </button>\n",
              "      \n",
              "  <style>\n",
              "    .colab-df-container {\n",
              "      display:flex;\n",
              "      flex-wrap:wrap;\n",
              "      gap: 12px;\n",
              "    }\n",
              "\n",
              "    .colab-df-convert {\n",
              "      background-color: #E8F0FE;\n",
              "      border: none;\n",
              "      border-radius: 50%;\n",
              "      cursor: pointer;\n",
              "      display: none;\n",
              "      fill: #1967D2;\n",
              "      height: 32px;\n",
              "      padding: 0 0 0 0;\n",
              "      width: 32px;\n",
              "    }\n",
              "\n",
              "    .colab-df-convert:hover {\n",
              "      background-color: #E2EBFA;\n",
              "      box-shadow: 0px 1px 2px rgba(60, 64, 67, 0.3), 0px 1px 3px 1px rgba(60, 64, 67, 0.15);\n",
              "      fill: #174EA6;\n",
              "    }\n",
              "\n",
              "    [theme=dark] .colab-df-convert {\n",
              "      background-color: #3B4455;\n",
              "      fill: #D2E3FC;\n",
              "    }\n",
              "\n",
              "    [theme=dark] .colab-df-convert:hover {\n",
              "      background-color: #434B5C;\n",
              "      box-shadow: 0px 1px 3px 1px rgba(0, 0, 0, 0.15);\n",
              "      filter: drop-shadow(0px 1px 2px rgba(0, 0, 0, 0.3));\n",
              "      fill: #FFFFFF;\n",
              "    }\n",
              "  </style>\n",
              "\n",
              "      <script>\n",
              "        const buttonEl =\n",
              "          document.querySelector('#df-228a079d-ce6d-4a2c-9f75-1294b9efd5a9 button.colab-df-convert');\n",
              "        buttonEl.style.display =\n",
              "          google.colab.kernel.accessAllowed ? 'block' : 'none';\n",
              "\n",
              "        async function convertToInteractive(key) {\n",
              "          const element = document.querySelector('#df-228a079d-ce6d-4a2c-9f75-1294b9efd5a9');\n",
              "          const dataTable =\n",
              "            await google.colab.kernel.invokeFunction('convertToInteractive',\n",
              "                                                     [key], {});\n",
              "          if (!dataTable) return;\n",
              "\n",
              "          const docLinkHtml = 'Like what you see? Visit the ' +\n",
              "            '<a target=\"_blank\" href=https://colab.research.google.com/notebooks/data_table.ipynb>data table notebook</a>'\n",
              "            + ' to learn more about interactive tables.';\n",
              "          element.innerHTML = '';\n",
              "          dataTable['output_type'] = 'display_data';\n",
              "          await google.colab.output.renderOutput(dataTable, element);\n",
              "          const docLink = document.createElement('div');\n",
              "          docLink.innerHTML = docLinkHtml;\n",
              "          element.appendChild(docLink);\n",
              "        }\n",
              "      </script>\n",
              "    </div>\n",
              "  </div>\n",
              "  "
            ]
          },
          "metadata": {},
          "execution_count": 3
        }
      ]
    },
    {
      "cell_type": "code",
      "source": [
        "len(data)"
      ],
      "metadata": {
        "id": "9OfNRzgP36lF",
        "colab": {
          "base_uri": "https://localhost:8080/"
        },
        "outputId": "31eb3eb8-43a4-4596-abd0-62b44e29aacc"
      },
      "execution_count": 4,
      "outputs": [
        {
          "output_type": "execute_result",
          "data": {
            "text/plain": [
              "2365"
            ]
          },
          "metadata": {},
          "execution_count": 4
        }
      ]
    },
    {
      "cell_type": "code",
      "source": [
        "data.shape"
      ],
      "metadata": {
        "id": "rM29Pf2I4ELl",
        "colab": {
          "base_uri": "https://localhost:8080/"
        },
        "outputId": "b1bf99f9-3514-4ada-fece-23fc5c762a7d"
      },
      "execution_count": 5,
      "outputs": [
        {
          "output_type": "execute_result",
          "data": {
            "text/plain": [
              "(2365, 21)"
            ]
          },
          "metadata": {},
          "execution_count": 5
        }
      ]
    },
    {
      "cell_type": "markdown",
      "source": [
        "# Visualization Definition\n",
        "\n",
        "#### Question to answer: Why women earn less than men?"
      ],
      "metadata": {
        "id": "ZcSOEgZd4l1R"
      }
    },
    {
      "cell_type": "markdown",
      "source": [
        "##### Men and Women distribution"
      ],
      "metadata": {
        "id": "0d8pbxQr42Um"
      }
    },
    {
      "cell_type": "code",
      "source": [
        "data['Genero'].value_counts()"
      ],
      "metadata": {
        "id": "xT9jaygM46nk",
        "colab": {
          "base_uri": "https://localhost:8080/"
        },
        "outputId": "c425bae5-9021-4c2b-df90-c743a9c62c6b"
      },
      "execution_count": 6,
      "outputs": [
        {
          "output_type": "execute_result",
          "data": {
            "text/plain": [
              "Masculino    1924\n",
              "Feminino      436\n",
              "Outro           5\n",
              "Name: Genero, dtype: int64"
            ]
          },
          "metadata": {},
          "execution_count": 6
        }
      ]
    },
    {
      "cell_type": "code",
      "source": [
        "#Replace column values\n",
        "data['Genero'] = data['Genero'].replace(['Masculino','Feminino','Outro'],['Male','Female','Other'])\n",
        "\n",
        "#Bar chart with matplotlib\n",
        "plt.bar(data['Genero'].unique(),data['Genero'].value_counts())\n",
        "plt.title('Genre Distribution in Data')\n",
        "plt.xlabel('Genre')\n",
        "plt.ylabel('Total');"
      ],
      "metadata": {
        "id": "cwQXYrq45GLg",
        "colab": {
          "base_uri": "https://localhost:8080/",
          "height": 295
        },
        "outputId": "d9baf83b-ffc9-4e2f-fafe-b9e70cf05cd8"
      },
      "execution_count": 7,
      "outputs": [
        {
          "output_type": "display_data",
          "data": {
            "text/plain": [
              "<Figure size 432x288 with 1 Axes>"
            ],
            "image/png": "[encoded data removed]"
          },
          "metadata": {
            "needs_background": "light"
          }
        }
      ]
    },
    {
      "cell_type": "code",
      "source": [
        "#Same chart with seaborn\n",
        "\n",
        "ax = sns.countplot(y='Genero',data=data,palette='inferno',order=data['Genero'].value_counts().index)\n",
        "ax.set_title('Genre Distribution in Data')\n",
        "ax.set_xlabel('Total')\n",
        "ax.set_ylabel('Genre')\n",
        "ax; "
      ],
      "metadata": {
        "id": "0BuHr7NG5aSs",
        "colab": {
          "base_uri": "https://localhost:8080/",
          "height": 295
        },
        "outputId": "27a68b90-c710-4c2c-cfb4-772a592ad5eb"
      },
      "execution_count": 8,
      "outputs": [
        {
          "output_type": "display_data",
          "data": {
            "text/plain": [
              "<Figure size 432x288 with 1 Axes>"
            ],
            "image/png": "[encoded data removed]"
          },
          "metadata": {
            "needs_background": "light"
          }
        }
      ]
    },
    {
      "cell_type": "code",
      "source": [
        "#Pie chart\n",
        "tmp = pd.DataFrame(data['Genero'].value_counts())\n",
        "tmp.plot.pie(y='Genero',figsize=(8,8),autopct='%.2f',title='% of People by Genre in Data',\n",
        "             startangle=90,legend=False,ylabel=None,colors=['blue','red','green']\n",
        "             );"
      ],
      "metadata": {
        "id": "S2EB0Z0d7tFU",
        "colab": {
          "base_uri": "https://localhost:8080/",
          "height": 482
        },
        "outputId": "6c9f30bc-3b15-4aac-caa1-555a6149386a"
      },
      "execution_count": 9,
      "outputs": [
        {
          "output_type": "display_data",
          "data": {
            "text/plain": [
              "<Figure size 576x576 with 1 Axes>"
            ],
            "image/png": "[encoded data removed]"
          },
          "metadata": {}
        }
      ]
    },
    {
      "cell_type": "code",
      "source": [
        "#Job Title distribution\n",
        "plt.figure(figsize=(15,8))\n",
        "ax = sns.countplot(y='Cargo Atual',data=data,palette='inferno',order=data['Cargo Atual'].value_counts().index)\n",
        "ax.set_title('Job Title Distribution in Data')\n",
        "ax.set_xlabel('Total')\n",
        "ax.set_ylabel('Job Title')\n",
        "ax; "
      ],
      "metadata": {
        "id": "oX-099ktBmgG",
        "colab": {
          "base_uri": "https://localhost:8080/",
          "height": 513
        },
        "outputId": "41f88f6e-7a61-4b35-e5b4-7811d3810bd2"
      },
      "execution_count": 10,
      "outputs": [
        {
          "output_type": "display_data",
          "data": {
            "text/plain": [
              "<Figure size 1080x576 with 1 Axes>"
            ],
            "image/png": "[encoded data removed]"
          },
          "metadata": {
            "needs_background": "light"
          }
        }
      ]
    },
    {
      "cell_type": "code",
      "source": [
        "#Job Title distribution\n",
        "plt.figure(figsize=(15,8))\n",
        "ax = sns.countplot(y='Cargo Atual',data=data,hue='Genero',order=data['Cargo Atual'].value_counts().index)\n",
        "ax.set_title('Job Title Distribution in Data by Genre')\n",
        "ax.set_xlabel('Total')\n",
        "ax.set_ylabel('Job Title')\n",
        "ax; "
      ],
      "metadata": {
        "id": "rH5eoTafCAw1",
        "colab": {
          "base_uri": "https://localhost:8080/",
          "height": 513
        },
        "outputId": "b5132e83-d8b8-48c5-c536-8a64a900eb52"
      },
      "execution_count": 11,
      "outputs": [
        {
          "output_type": "display_data",
          "data": {
            "text/plain": [
              "<Figure size 1080x576 with 1 Axes>"
            ],
            "image/png": "[encoded data removed]"
          },
          "metadata": {
            "needs_background": "light"
          }
        }
      ]
    },
    {
      "cell_type": "markdown",
      "source": [
        "### Level Distribution by Genre"
      ],
      "metadata": {
        "id": "FcS2r978D6_Z"
      }
    },
    {
      "cell_type": "code",
      "source": [
        "data['Nivel'] = data['Nivel'].replace(['Júnior','Pleno','Sênior','Gestor'],['Junior','Mid','Senior','Manager'])\n",
        "data.rename(columns={'Genero':'Genre','Nivel':'Level'},inplace=True)\n",
        "\n",
        "tmp = data.groupby('Genre')['Level'].value_counts()"
      ],
      "metadata": {
        "id": "_TIXFdivD-kR"
      },
      "execution_count": 12,
      "outputs": []
    },
    {
      "cell_type": "code",
      "source": [
        "tmp.head()"
      ],
      "metadata": {
        "colab": {
          "base_uri": "https://localhost:8080/"
        },
        "id": "yBjIrWZkYe-F",
        "outputId": "a668365c-9d87-48fd-ce96-42b68c13e0a7"
      },
      "execution_count": 13,
      "outputs": [
        {
          "output_type": "execute_result",
          "data": {
            "text/plain": [
              "Genre   Level  \n",
              "Female  Junior     144\n",
              "        Mid        131\n",
              "        Senior      94\n",
              "        Manager     67\n",
              "Male    Mid        525\n",
              "Name: Level, dtype: int64"
            ]
          },
          "metadata": {},
          "execution_count": 13
        }
      ]
    },
    {
      "cell_type": "code",
      "source": [
        "tmp = tmp.reset_index(name='Total')"
      ],
      "metadata": {
        "id": "JSxgYRjJEpK_"
      },
      "execution_count": 14,
      "outputs": []
    },
    {
      "cell_type": "code",
      "source": [
        "tmp.head()"
      ],
      "metadata": {
        "colab": {
          "base_uri": "https://localhost:8080/",
          "height": 206
        },
        "id": "LnTOdM39Wpvu",
        "outputId": "f9a0d225-f46e-47b5-97cb-e923f882ab82"
      },
      "execution_count": 15,
      "outputs": [
        {
          "output_type": "execute_result",
          "data": {
            "text/plain": [
              "    Genre    Level  Total\n",
              "0  Female   Junior    144\n",
              "1  Female      Mid    131\n",
              "2  Female   Senior     94\n",
              "3  Female  Manager     67\n",
              "4    Male      Mid    525"
            ],
            "text/html": [
              "\n",
              "  <div id=\"df-b702a99b-383a-4bbd-a4bc-7f0ca253e34a\">\n",
              "    <div class=\"colab-df-container\">\n",
              "      <div>\n",
              "<style scoped>\n",
              "    .dataframe tbody tr th:only-of-type {\n",
              "        vertical-align: middle;\n",
              "    }\n",
              "\n",
              "    .dataframe tbody tr th {\n",
              "        vertical-align: top;\n",
              "    }\n",
              "\n",
              "    .dataframe thead th {\n",
              "        text-align: right;\n",
              "    }\n",
              "</style>\n",
              "<table border=\"1\" class=\"dataframe\">\n",
              "  <thead>\n",
              "    <tr style=\"text-align: right;\">\n",
              "      <th></th>\n",
              "      <th>Genre</th>\n",
              "      <th>Level</th>\n",
              "      <th>Total</th>\n",
              "    </tr>\n",
              "  </thead>\n",
              "  <tbody>\n",
              "    <tr>\n",
              "      <th>0</th>\n",
              "      <td>Female</td>\n",
              "      <td>Junior</td>\n",
              "      <td>144</td>\n",
              "    </tr>\n",
              "    <tr>\n",
              "      <th>1</th>\n",
              "      <td>Female</td>\n",
              "      <td>Mid</td>\n",
              "      <td>131</td>\n",
              "    </tr>\n",
              "    <tr>\n",
              "      <th>2</th>\n",
              "      <td>Female</td>\n",
              "      <td>Senior</td>\n",
              "      <td>94</td>\n",
              "    </tr>\n",
              "    <tr>\n",
              "      <th>3</th>\n",
              "      <td>Female</td>\n",
              "      <td>Manager</td>\n",
              "      <td>67</td>\n",
              "    </tr>\n",
              "    <tr>\n",
              "      <th>4</th>\n",
              "      <td>Male</td>\n",
              "      <td>Mid</td>\n",
              "      <td>525</td>\n",
              "    </tr>\n",
              "  </tbody>\n",
              "</table>\n",
              "</div>\n",
              "      <button class=\"colab-df-convert\" onclick=\"convertToInteractive('df-b702a99b-383a-4bbd-a4bc-7f0ca253e34a')\"\n",
              "              title=\"Convert this dataframe to an interactive table.\"\n",
              "              style=\"display:none;\">\n",
              "        \n",
              "  <svg xmlns=\"http://www.w3.org/2000/svg\" height=\"24px\"viewBox=\"0 0 24 24\"\n",
              "       width=\"24px\">\n",
              "    <path d=\"M0 0h24v24H0V0z\" fill=\"none\"/>\n",
              "    <path d=\"M18.56 5.44l.94 2.06.94-2.06 2.06-.94-2.06-.94-.94-2.06-.94 2.06-2.06.94zm-11 1L8.5 8.5l.94-2.06 2.06-.94-2.06-.94L8.5 2.5l-.94 2.06-2.06.94zm10 10l.94 2.06.94-2.06 2.06-.94-2.06-.94-.94-2.06-.94 2.06-2.06.94z\"/><path d=\"M17.41 7.96l-1.37-1.37c-.4-.4-.92-.59-1.43-.59-.52 0-1.04.2-1.43.59L10.3 9.45l-7.72 7.72c-.78.78-.78 2.05 0 2.83L4 21.41c.39.39.9.59 1.41.59.51 0 1.02-.2 1.41-.59l7.78-7.78 2.81-2.81c.8-.78.8-2.07 0-2.86zM5.41 20L4 18.59l7.72-7.72 1.47 1.35L5.41 20z\"/>\n",
              "  </svg>\n",
              "      </button>\n",
              "      \n",
              "  <style>\n",
              "    .colab-df-container {\n",
              "      display:flex;\n",
              "      flex-wrap:wrap;\n",
              "      gap: 12px;\n",
              "    }\n",
              "\n",
              "    .colab-df-convert {\n",
              "      background-color: #E8F0FE;\n",
              "      border: none;\n",
              "      border-radius: 50%;\n",
              "      cursor: pointer;\n",
              "      display: none;\n",
              "      fill: #1967D2;\n",
              "      height: 32px;\n",
              "      padding: 0 0 0 0;\n",
              "      width: 32px;\n",
              "    }\n",
              "\n",
              "    .colab-df-convert:hover {\n",
              "      background-color: #E2EBFA;\n",
              "      box-shadow: 0px 1px 2px rgba(60, 64, 67, 0.3), 0px 1px 3px 1px rgba(60, 64, 67, 0.15);\n",
              "      fill: #174EA6;\n",
              "    }\n",
              "\n",
              "    [theme=dark] .colab-df-convert {\n",
              "      background-color: #3B4455;\n",
              "      fill: #D2E3FC;\n",
              "    }\n",
              "\n",
              "    [theme=dark] .colab-df-convert:hover {\n",
              "      background-color: #434B5C;\n",
              "      box-shadow: 0px 1px 3px 1px rgba(0, 0, 0, 0.15);\n",
              "      filter: drop-shadow(0px 1px 2px rgba(0, 0, 0, 0.3));\n",
              "      fill: #FFFFFF;\n",
              "    }\n",
              "  </style>\n",
              "\n",
              "      <script>\n",
              "        const buttonEl =\n",
              "          document.querySelector('#df-b702a99b-383a-4bbd-a4bc-7f0ca253e34a button.colab-df-convert');\n",
              "        buttonEl.style.display =\n",
              "          google.colab.kernel.accessAllowed ? 'block' : 'none';\n",
              "\n",
              "        async function convertToInteractive(key) {\n",
              "          const element = document.querySelector('#df-b702a99b-383a-4bbd-a4bc-7f0ca253e34a');\n",
              "          const dataTable =\n",
              "            await google.colab.kernel.invokeFunction('convertToInteractive',\n",
              "                                                     [key], {});\n",
              "          if (!dataTable) return;\n",
              "\n",
              "          const docLinkHtml = 'Like what you see? Visit the ' +\n",
              "            '<a target=\"_blank\" href=https://colab.research.google.com/notebooks/data_table.ipynb>data table notebook</a>'\n",
              "            + ' to learn more about interactive tables.';\n",
              "          element.innerHTML = '';\n",
              "          dataTable['output_type'] = 'display_data';\n",
              "          await google.colab.output.renderOutput(dataTable, element);\n",
              "          const docLink = document.createElement('div');\n",
              "          docLink.innerHTML = docLinkHtml;\n",
              "          element.appendChild(docLink);\n",
              "        }\n",
              "      </script>\n",
              "    </div>\n",
              "  </div>\n",
              "  "
            ]
          },
          "metadata": {},
          "execution_count": 15
        }
      ]
    },
    {
      "cell_type": "code",
      "source": [
        "plt.figure(figsize=(12,8))\n",
        "sns.barplot(x='Level',y='Total',hue='Genre',palette='inferno',data=tmp,hue_order=['Male','Female','Other'])\n",
        "plt.title('Level Distribution by Genre')\n",
        "plt.xlabel('Level')\n",
        "plt.ylabel('Total')\n",
        "plt;"
      ],
      "metadata": {
        "colab": {
          "base_uri": "https://localhost:8080/",
          "height": 513
        },
        "id": "L4zAnupHYowe",
        "outputId": "51e00a98-a5ef-4c98-8eea-d2924e886b54"
      },
      "execution_count": 16,
      "outputs": [
        {
          "output_type": "display_data",
          "data": {
            "text/plain": [
              "<Figure size 864x576 with 1 Axes>"
            ],
            "image/png": "[encoded data removed]"
          },
          "metadata": {
            "needs_background": "light"
          }
        }
      ]
    },
    {
      "cell_type": "markdown",
      "source": [
        "# Compensation"
      ],
      "metadata": {
        "id": "YAQBgqP6Zaz9"
      }
    },
    {
      "cell_type": "code",
      "source": [
        "data['Faixa Salarial_number'].hist(bins=20)\n",
        "plt.title('Compensation Distribution')\n",
        "plt;"
      ],
      "metadata": {
        "colab": {
          "base_uri": "https://localhost:8080/",
          "height": 281
        },
        "id": "zyorLfAcZKL-",
        "outputId": "46ada37c-3a76-4537-aff7-36eeadec33f5"
      },
      "execution_count": 17,
      "outputs": [
        {
          "output_type": "display_data",
          "data": {
            "text/plain": [
              "<Figure size 432x288 with 1 Axes>"
            ],
            "image/png": "[encoded data removed]"
          },
          "metadata": {
            "needs_background": "light"
          }
        }
      ]
    },
    {
      "cell_type": "markdown",
      "source": [
        "### Compensation x Genre\n"
      ],
      "metadata": {
        "id": "DfkPtJGpaFwY"
      }
    },
    {
      "cell_type": "code",
      "source": [
        "data2 = data[data['Cargo Atual'].str.contains('Cientista de Dados',na=False)]"
      ],
      "metadata": {
        "id": "tN0_zxskaEzk"
      },
      "execution_count": 18,
      "outputs": []
    },
    {
      "cell_type": "code",
      "source": [
        "tmp = data2.groupby(['Genre','Level'])['Faixa Salarial_number'].mean().round(2)\n",
        "tmp.head()"
      ],
      "metadata": {
        "colab": {
          "base_uri": "https://localhost:8080/"
        },
        "id": "8-Xlzpqhaft0",
        "outputId": "6821a176-c209-4c3b-a9eb-a79c55245efe"
      },
      "execution_count": 19,
      "outputs": [
        {
          "output_type": "execute_result",
          "data": {
            "text/plain": [
              "Genre   Level \n",
              "Female  Junior     5615.38\n",
              "        Mid        9600.00\n",
              "        Senior    13882.35\n",
              "Male    Junior     5247.19\n",
              "        Mid       10896.83\n",
              "Name: Faixa Salarial_number, dtype: float64"
            ]
          },
          "metadata": {},
          "execution_count": 19
        }
      ]
    },
    {
      "cell_type": "code",
      "source": [
        "tmp=tmp.reset_index(name='Mean Compensation')\n",
        "tmp.head()"
      ],
      "metadata": {
        "colab": {
          "base_uri": "https://localhost:8080/",
          "height": 206
        },
        "id": "r3ic4VJgatc8",
        "outputId": "3264e4c8-6bf5-425c-c1ef-8cf3e1004f25"
      },
      "execution_count": 20,
      "outputs": [
        {
          "output_type": "execute_result",
          "data": {
            "text/plain": [
              "    Genre   Level  Mean Compensation\n",
              "0  Female  Junior            5615.38\n",
              "1  Female     Mid            9600.00\n",
              "2  Female  Senior           13882.35\n",
              "3    Male  Junior            5247.19\n",
              "4    Male     Mid           10896.83"
            ],
            "text/html": [
              "\n",
              "  <div id=\"df-44a79756-140a-40b7-9542-46492fb43f8e\">\n",
              "    <div class=\"colab-df-container\">\n",
              "      <div>\n",
              "<style scoped>\n",
              "    .dataframe tbody tr th:only-of-type {\n",
              "        vertical-align: middle;\n",
              "    }\n",
              "\n",
              "    .dataframe tbody tr th {\n",
              "        vertical-align: top;\n",
              "    }\n",
              "\n",
              "    .dataframe thead th {\n",
              "        text-align: right;\n",
              "    }\n",
              "</style>\n",
              "<table border=\"1\" class=\"dataframe\">\n",
              "  <thead>\n",
              "    <tr style=\"text-align: right;\">\n",
              "      <th></th>\n",
              "      <th>Genre</th>\n",
              "      <th>Level</th>\n",
              "      <th>Mean Compensation</th>\n",
              "    </tr>\n",
              "  </thead>\n",
              "  <tbody>\n",
              "    <tr>\n",
              "      <th>0</th>\n",
              "      <td>Female</td>\n",
              "      <td>Junior</td>\n",
              "      <td>5615.38</td>\n",
              "    </tr>\n",
              "    <tr>\n",
              "      <th>1</th>\n",
              "      <td>Female</td>\n",
              "      <td>Mid</td>\n",
              "      <td>9600.00</td>\n",
              "    </tr>\n",
              "    <tr>\n",
              "      <th>2</th>\n",
              "      <td>Female</td>\n",
              "      <td>Senior</td>\n",
              "      <td>13882.35</td>\n",
              "    </tr>\n",
              "    <tr>\n",
              "      <th>3</th>\n",
              "      <td>Male</td>\n",
              "      <td>Junior</td>\n",
              "      <td>5247.19</td>\n",
              "    </tr>\n",
              "    <tr>\n",
              "      <th>4</th>\n",
              "      <td>Male</td>\n",
              "      <td>Mid</td>\n",
              "      <td>10896.83</td>\n",
              "    </tr>\n",
              "  </tbody>\n",
              "</table>\n",
              "</div>\n",
              "      <button class=\"colab-df-convert\" onclick=\"convertToInteractive('df-44a79756-140a-40b7-9542-46492fb43f8e')\"\n",
              "              title=\"Convert this dataframe to an interactive table.\"\n",
              "              style=\"display:none;\">\n",
              "        \n",
              "  <svg xmlns=\"http://www.w3.org/2000/svg\" height=\"24px\"viewBox=\"0 0 24 24\"\n",
              "       width=\"24px\">\n",
              "    <path d=\"M0 0h24v24H0V0z\" fill=\"none\"/>\n",
              "    <path d=\"M18.56 5.44l.94 2.06.94-2.06 2.06-.94-2.06-.94-.94-2.06-.94 2.06-2.06.94zm-11 1L8.5 8.5l.94-2.06 2.06-.94-2.06-.94L8.5 2.5l-.94 2.06-2.06.94zm10 10l.94 2.06.94-2.06 2.06-.94-2.06-.94-.94-2.06-.94 2.06-2.06.94z\"/><path d=\"M17.41 7.96l-1.37-1.37c-.4-.4-.92-.59-1.43-.59-.52 0-1.04.2-1.43.59L10.3 9.45l-7.72 7.72c-.78.78-.78 2.05 0 2.83L4 21.41c.39.39.9.59 1.41.59.51 0 1.02-.2 1.41-.59l7.78-7.78 2.81-2.81c.8-.78.8-2.07 0-2.86zM5.41 20L4 18.59l7.72-7.72 1.47 1.35L5.41 20z\"/>\n",
              "  </svg>\n",
              "      </button>\n",
              "      \n",
              "  <style>\n",
              "    .colab-df-container {\n",
              "      display:flex;\n",
              "      flex-wrap:wrap;\n",
              "      gap: 12px;\n",
              "    }\n",
              "\n",
              "    .colab-df-convert {\n",
              "      background-color: #E8F0FE;\n",
              "      border: none;\n",
              "      border-radius: 50%;\n",
              "      cursor: pointer;\n",
              "      display: none;\n",
              "      fill: #1967D2;\n",
              "      height: 32px;\n",
              "      padding: 0 0 0 0;\n",
              "      width: 32px;\n",
              "    }\n",
              "\n",
              "    .colab-df-convert:hover {\n",
              "      background-color: #E2EBFA;\n",
              "      box-shadow: 0px 1px 2px rgba(60, 64, 67, 0.3), 0px 1px 3px 1px rgba(60, 64, 67, 0.15);\n",
              "      fill: #174EA6;\n",
              "    }\n",
              "\n",
              "    [theme=dark] .colab-df-convert {\n",
              "      background-color: #3B4455;\n",
              "      fill: #D2E3FC;\n",
              "    }\n",
              "\n",
              "    [theme=dark] .colab-df-convert:hover {\n",
              "      background-color: #434B5C;\n",
              "      box-shadow: 0px 1px 3px 1px rgba(0, 0, 0, 0.15);\n",
              "      filter: drop-shadow(0px 1px 2px rgba(0, 0, 0, 0.3));\n",
              "      fill: #FFFFFF;\n",
              "    }\n",
              "  </style>\n",
              "\n",
              "      <script>\n",
              "        const buttonEl =\n",
              "          document.querySelector('#df-44a79756-140a-40b7-9542-46492fb43f8e button.colab-df-convert');\n",
              "        buttonEl.style.display =\n",
              "          google.colab.kernel.accessAllowed ? 'block' : 'none';\n",
              "\n",
              "        async function convertToInteractive(key) {\n",
              "          const element = document.querySelector('#df-44a79756-140a-40b7-9542-46492fb43f8e');\n",
              "          const dataTable =\n",
              "            await google.colab.kernel.invokeFunction('convertToInteractive',\n",
              "                                                     [key], {});\n",
              "          if (!dataTable) return;\n",
              "\n",
              "          const docLinkHtml = 'Like what you see? Visit the ' +\n",
              "            '<a target=\"_blank\" href=https://colab.research.google.com/notebooks/data_table.ipynb>data table notebook</a>'\n",
              "            + ' to learn more about interactive tables.';\n",
              "          element.innerHTML = '';\n",
              "          dataTable['output_type'] = 'display_data';\n",
              "          await google.colab.output.renderOutput(dataTable, element);\n",
              "          const docLink = document.createElement('div');\n",
              "          docLink.innerHTML = docLinkHtml;\n",
              "          element.appendChild(docLink);\n",
              "        }\n",
              "      </script>\n",
              "    </div>\n",
              "  </div>\n",
              "  "
            ]
          },
          "metadata": {},
          "execution_count": 20
        }
      ]
    },
    {
      "cell_type": "code",
      "source": [
        "plt.figure(figsize=(12,8))\n",
        "sns.barplot(x='Level',y='Mean Compensation',hue='Genre',data=tmp,order=['Junior','Mid','Senior','Manager'],palette='inferno',hue_order=['Male','Female','Other'])\n",
        "plt.title('Mean Compensation x Genre')\n",
        "plt.xlabel('Level')\n",
        "plt.ylabel('Mean Compensation')\n",
        "plt;"
      ],
      "metadata": {
        "colab": {
          "base_uri": "https://localhost:8080/",
          "height": 513
        },
        "id": "YalcRA0dbxiM",
        "outputId": "ae39e777-94f1-44a9-c0c5-629b7b4a31a0"
      },
      "execution_count": 21,
      "outputs": [
        {
          "output_type": "display_data",
          "data": {
            "text/plain": [
              "<Figure size 864x576 with 1 Axes>"
            ],
            "image/png": "[encoded data removed]"
          },
          "metadata": {
            "needs_background": "light"
          }
        }
      ]
    },
    {
      "cell_type": "code",
      "source": [
        "data['Tempo XP em Dados'].unique()"
      ],
      "metadata": {
        "colab": {
          "base_uri": "https://localhost:8080/"
        },
        "id": "oBz-znAbYFb0",
        "outputId": "b7f27bff-9725-4e22-a1cb-8aac8ff79a26"
      },
      "execution_count": 22,
      "outputs": [
        {
          "output_type": "execute_result",
          "data": {
            "text/plain": [
              "array(['Mais de 10 anos', 'de 2 a 3 anos', 'de 1 a 2 anos',\n",
              "       'de 4 a 5 anos', 'Não tenho experiência na área de dados',\n",
              "       'Menos de 1 ano', 'de 6 a 10 anos'], dtype=object)"
            ]
          },
          "metadata": {},
          "execution_count": 22
        }
      ]
    },
    {
      "cell_type": "code",
      "source": [
        "data2['Tempo XP em Dados'] = data['Tempo XP em Dados'].replace(['Mais de 10 anos', 'de 2 a 3 anos', 'de 1 a 2 anos',\n",
        "       'de 4 a 5 anos', 'Não tenho experiência na área de dados','Menos de 1 ano', 'de 6 a 10 anos'],                                                   \n",
        "                                                              ['More than 10 years', '2 to 3 years', '1 to 2 years',\n",
        "        'from 4 to 5 years', 'I have no experience in the data area',\n",
        "        'Less than 1 year', 'from 6 to 10 years'])\n",
        "\n",
        "data2.rename(columns={'Tempo XP em Dados':'Time Experience with Data'},inplace=True)"
      ],
      "metadata": {
        "colab": {
          "base_uri": "https://localhost:8080/"
        },
        "id": "3faSObW-YGlp",
        "outputId": "e3bda3b2-4820-4cd0-9511-275165c8749c"
      },
      "execution_count": 23,
      "outputs": [
        {
          "output_type": "stream",
          "name": "stderr",
          "text": [
            "/usr/local/lib/python3.7/dist-packages/ipykernel_launcher.py:5: SettingWithCopyWarning: \n",
            "A value is trying to be set on a copy of a slice from a DataFrame.\n",
            "Try using .loc[row_indexer,col_indexer] = value instead\n",
            "\n",
            "See the caveats in the documentation: https://pandas.pydata.org/pandas-docs/stable/user_guide/indexing.html#returning-a-view-versus-a-copy\n",
            "  \"\"\"\n",
            "/usr/local/lib/python3.7/dist-packages/pandas/core/frame.py:5047: SettingWithCopyWarning: \n",
            "A value is trying to be set on a copy of a slice from a DataFrame\n",
            "\n",
            "See the caveats in the documentation: https://pandas.pydata.org/pandas-docs/stable/user_guide/indexing.html#returning-a-view-versus-a-copy\n",
            "  errors=errors,\n"
          ]
        }
      ]
    },
    {
      "cell_type": "code",
      "source": [
        "tmp = data2.groupby(['Genre','Time Experience with Data'])['Faixa Salarial_number'].mean()\n",
        "tmp = tmp.reset_index(name='Mean Compensation')\n",
        "plt.figure(figsize=(10,8))\n",
        "\n",
        "ax = sns.barplot(x='Time Experience with Data',y='Mean Compensation',hue='Genre',data=tmp,\n",
        "            order= ['More than 10 years', '2 to 3 years', '1 to 2 years','from 4 to 5 years', 'I have no experience in the data area',\n",
        "                    'Less than 1 year', 'from 6 to 10 years'],hue_order=['Female', 'Male','Other'],\n",
        "            palette='inferno')\n",
        "\n",
        "plt.title('Time Experience, Compensation and Genre')\n",
        "ax.set_xticklabels(labels=['More than 10 years', '2 to 3 years', '1 to 2 years','from 4 to 5 years', 'I have no experience in the data area',\n",
        "                    'Less than 1 year', 'from 6 to 10 years'],rotation=(270),fontsize=10,va='top',ha='left')\n",
        "ax;"
      ],
      "metadata": {
        "id": "NHW1QdzHdFzu",
        "colab": {
          "base_uri": "https://localhost:8080/",
          "height": 690
        },
        "outputId": "96779b51-9fa9-421a-88f5-230fefb8eb7a"
      },
      "execution_count": 24,
      "outputs": [
        {
          "output_type": "display_data",
          "data": {
            "text/plain": [
              "<Figure size 720x576 with 1 Axes>"
            ],
            "image/png": "[encoded data removed]"
          },
          "metadata": {
            "needs_background": "light"
          }
        }
      ]
    },
    {
      "cell_type": "code",
      "source": [],
      "metadata": {
        "id": "h5vYbeXDebbq"
      },
      "execution_count": 24,
      "outputs": []
    }
  ]
}